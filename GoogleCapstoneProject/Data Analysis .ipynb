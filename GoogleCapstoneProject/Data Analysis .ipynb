{
 "cells": [
  {
   "cell_type": "code",
   "execution_count": 1,
   "id": "8e370b8a",
   "metadata": {},
   "outputs": [],
   "source": [
    "import pandas as pd\n",
    "import numpy as np\n",
    "\n",
    "import matplotlib.pyplot as plt\n",
    "\n",
    "saw = pd.read_excel('SleepActivityWeight_merged.xlsx')\n",
    "ahr = pd.read_excel('AverageHeartRatePerHourWithDate.xlsx')\n",
    "hci = pd.read_excel('HourlyCaloriesIntensity_merged_WithHour.xlsx')"
   ]
  },
  {
   "cell_type": "code",
   "execution_count": 36,
   "id": "31042358",
   "metadata": {
    "scrolled": false
   },
   "outputs": [
    {
     "data": {
      "text/html": [
       "<div>\n",
       "<style scoped>\n",
       "    .dataframe tbody tr th:only-of-type {\n",
       "        vertical-align: middle;\n",
       "    }\n",
       "\n",
       "    .dataframe tbody tr th {\n",
       "        vertical-align: top;\n",
       "    }\n",
       "\n",
       "    .dataframe thead th {\n",
       "        text-align: right;\n",
       "    }\n",
       "</style>\n",
       "<table border=\"1\" class=\"dataframe\">\n",
       "  <thead>\n",
       "    <tr style=\"text-align: right;\">\n",
       "      <th></th>\n",
       "      <th>Id</th>\n",
       "      <th>ActivityDate</th>\n",
       "      <th>TotalSteps</th>\n",
       "      <th>TotalDistance</th>\n",
       "      <th>VeryActiveDistance</th>\n",
       "      <th>ModeratelyActiveDistance</th>\n",
       "      <th>LightActiveDistance</th>\n",
       "      <th>VeryActiveMinutes</th>\n",
       "      <th>FairlyActiveMinutes</th>\n",
       "      <th>LightlyActiveMinutes</th>\n",
       "      <th>...</th>\n",
       "      <th>Calories</th>\n",
       "      <th>SleepDay</th>\n",
       "      <th>TotalSleepRecords</th>\n",
       "      <th>TotalMinutesAsleep</th>\n",
       "      <th>TotalTimeInBed</th>\n",
       "      <th>WeightKg</th>\n",
       "      <th>WeightPounds</th>\n",
       "      <th>BMI</th>\n",
       "      <th>IsManualReport</th>\n",
       "      <th>LogId</th>\n",
       "    </tr>\n",
       "  </thead>\n",
       "  <tbody>\n",
       "    <tr>\n",
       "      <th>0</th>\n",
       "      <td>1503960366</td>\n",
       "      <td>2016-04-12</td>\n",
       "      <td>13162</td>\n",
       "      <td>8.50</td>\n",
       "      <td>1.88</td>\n",
       "      <td>0.55</td>\n",
       "      <td>6.06</td>\n",
       "      <td>25</td>\n",
       "      <td>13</td>\n",
       "      <td>328</td>\n",
       "      <td>...</td>\n",
       "      <td>1985</td>\n",
       "      <td>2016-04-12</td>\n",
       "      <td>1</td>\n",
       "      <td>327</td>\n",
       "      <td>346</td>\n",
       "      <td>NaN</td>\n",
       "      <td>NaN</td>\n",
       "      <td>NaN</td>\n",
       "      <td>NaN</td>\n",
       "      <td>NaN</td>\n",
       "    </tr>\n",
       "    <tr>\n",
       "      <th>1</th>\n",
       "      <td>1503960366</td>\n",
       "      <td>2016-04-13</td>\n",
       "      <td>10735</td>\n",
       "      <td>6.97</td>\n",
       "      <td>1.57</td>\n",
       "      <td>0.69</td>\n",
       "      <td>4.71</td>\n",
       "      <td>21</td>\n",
       "      <td>19</td>\n",
       "      <td>217</td>\n",
       "      <td>...</td>\n",
       "      <td>1797</td>\n",
       "      <td>2016-04-13</td>\n",
       "      <td>2</td>\n",
       "      <td>384</td>\n",
       "      <td>407</td>\n",
       "      <td>NaN</td>\n",
       "      <td>NaN</td>\n",
       "      <td>NaN</td>\n",
       "      <td>NaN</td>\n",
       "      <td>NaN</td>\n",
       "    </tr>\n",
       "    <tr>\n",
       "      <th>2</th>\n",
       "      <td>1503960366</td>\n",
       "      <td>2016-04-15</td>\n",
       "      <td>9762</td>\n",
       "      <td>6.28</td>\n",
       "      <td>2.14</td>\n",
       "      <td>1.26</td>\n",
       "      <td>2.83</td>\n",
       "      <td>29</td>\n",
       "      <td>34</td>\n",
       "      <td>209</td>\n",
       "      <td>...</td>\n",
       "      <td>1745</td>\n",
       "      <td>2016-04-15</td>\n",
       "      <td>1</td>\n",
       "      <td>412</td>\n",
       "      <td>442</td>\n",
       "      <td>NaN</td>\n",
       "      <td>NaN</td>\n",
       "      <td>NaN</td>\n",
       "      <td>NaN</td>\n",
       "      <td>NaN</td>\n",
       "    </tr>\n",
       "    <tr>\n",
       "      <th>3</th>\n",
       "      <td>1503960366</td>\n",
       "      <td>2016-04-16</td>\n",
       "      <td>12669</td>\n",
       "      <td>8.16</td>\n",
       "      <td>2.71</td>\n",
       "      <td>0.41</td>\n",
       "      <td>5.04</td>\n",
       "      <td>36</td>\n",
       "      <td>10</td>\n",
       "      <td>221</td>\n",
       "      <td>...</td>\n",
       "      <td>1863</td>\n",
       "      <td>2016-04-16</td>\n",
       "      <td>2</td>\n",
       "      <td>340</td>\n",
       "      <td>367</td>\n",
       "      <td>NaN</td>\n",
       "      <td>NaN</td>\n",
       "      <td>NaN</td>\n",
       "      <td>NaN</td>\n",
       "      <td>NaN</td>\n",
       "    </tr>\n",
       "    <tr>\n",
       "      <th>4</th>\n",
       "      <td>1503960366</td>\n",
       "      <td>2016-04-17</td>\n",
       "      <td>9705</td>\n",
       "      <td>6.48</td>\n",
       "      <td>3.19</td>\n",
       "      <td>0.78</td>\n",
       "      <td>2.51</td>\n",
       "      <td>38</td>\n",
       "      <td>20</td>\n",
       "      <td>164</td>\n",
       "      <td>...</td>\n",
       "      <td>1728</td>\n",
       "      <td>2016-04-17</td>\n",
       "      <td>1</td>\n",
       "      <td>700</td>\n",
       "      <td>712</td>\n",
       "      <td>NaN</td>\n",
       "      <td>NaN</td>\n",
       "      <td>NaN</td>\n",
       "      <td>NaN</td>\n",
       "      <td>NaN</td>\n",
       "    </tr>\n",
       "  </tbody>\n",
       "</table>\n",
       "<p>5 rows × 21 columns</p>\n",
       "</div>"
      ],
      "text/plain": [
       "           Id ActivityDate  TotalSteps  TotalDistance  VeryActiveDistance  \\\n",
       "0  1503960366   2016-04-12       13162           8.50                1.88   \n",
       "1  1503960366   2016-04-13       10735           6.97                1.57   \n",
       "2  1503960366   2016-04-15        9762           6.28                2.14   \n",
       "3  1503960366   2016-04-16       12669           8.16                2.71   \n",
       "4  1503960366   2016-04-17        9705           6.48                3.19   \n",
       "\n",
       "   ModeratelyActiveDistance  LightActiveDistance  VeryActiveMinutes  \\\n",
       "0                      0.55                 6.06                 25   \n",
       "1                      0.69                 4.71                 21   \n",
       "2                      1.26                 2.83                 29   \n",
       "3                      0.41                 5.04                 36   \n",
       "4                      0.78                 2.51                 38   \n",
       "\n",
       "   FairlyActiveMinutes  LightlyActiveMinutes  ...  Calories   SleepDay  \\\n",
       "0                   13                   328  ...      1985 2016-04-12   \n",
       "1                   19                   217  ...      1797 2016-04-13   \n",
       "2                   34                   209  ...      1745 2016-04-15   \n",
       "3                   10                   221  ...      1863 2016-04-16   \n",
       "4                   20                   164  ...      1728 2016-04-17   \n",
       "\n",
       "  TotalSleepRecords  TotalMinutesAsleep  TotalTimeInBed  WeightKg  \\\n",
       "0                 1                 327             346       NaN   \n",
       "1                 2                 384             407       NaN   \n",
       "2                 1                 412             442       NaN   \n",
       "3                 2                 340             367       NaN   \n",
       "4                 1                 700             712       NaN   \n",
       "\n",
       "   WeightPounds  BMI  IsManualReport  LogId  \n",
       "0           NaN  NaN             NaN    NaN  \n",
       "1           NaN  NaN             NaN    NaN  \n",
       "2           NaN  NaN             NaN    NaN  \n",
       "3           NaN  NaN             NaN    NaN  \n",
       "4           NaN  NaN             NaN    NaN  \n",
       "\n",
       "[5 rows x 21 columns]"
      ]
     },
     "execution_count": 36,
     "metadata": {},
     "output_type": "execute_result"
    }
   ],
   "source": [
    "saw.head(5)"
   ]
  },
  {
   "cell_type": "markdown",
   "id": "91d01ca6",
   "metadata": {},
   "source": [
    "# Distance Travelled by Users"
   ]
  },
  {
   "cell_type": "code",
   "execution_count": 3,
   "id": "f48f4d62",
   "metadata": {},
   "outputs": [
    {
     "data": {
      "text/plain": [
       "6.01239025034919"
      ]
     },
     "execution_count": 3,
     "metadata": {},
     "output_type": "execute_result"
    }
   ],
   "source": [
    "saw['TotalDistance'].mean()"
   ]
  },
  {
   "cell_type": "markdown",
   "id": "58d9cafb",
   "metadata": {},
   "source": [
    "## Physical activity of the users "
   ]
  },
  {
   "cell_type": "code",
   "execution_count": 4,
   "id": "d230513a",
   "metadata": {
    "scrolled": true
   },
   "outputs": [
    {
     "data": {
      "text/plain": [
       "count    410.000000\n",
       "mean       6.012390\n",
       "std        3.043946\n",
       "min        0.010000\n",
       "25%        3.592500\n",
       "50%        6.270000\n",
       "75%        8.005000\n",
       "max       17.540001\n",
       "Name: TotalDistance, dtype: float64"
      ]
     },
     "execution_count": 4,
     "metadata": {},
     "output_type": "execute_result"
    }
   ],
   "source": [
    "saw['TotalDistance'].describe()"
   ]
  },
  {
   "cell_type": "markdown",
   "id": "7b873dd8",
   "metadata": {},
   "source": [
    "The average bellabeats user travelled a distance of 6km in one day.\n",
    "\n",
    "The average individual can run 5 miles (8km) in 40 minutes. \n",
    "\n",
    "This means that most bellabeats users are below average physically and are using bellabeats to improve their physical condition. (This could also mean that bellabeats users didn't exercise much during the time that the data was recorded)"
   ]
  },
  {
   "cell_type": "markdown",
   "id": "a0b6a0ee",
   "metadata": {},
   "source": [
    "We can use the data collected to see if the users were actually exercising by analysing the distance travelled while being very active (Meaning running)"
   ]
  },
  {
   "cell_type": "code",
   "execution_count": 5,
   "id": "9858ea7a",
   "metadata": {
    "scrolled": true
   },
   "outputs": [
    {
     "data": {
      "text/plain": [
       "1.446219510257971"
      ]
     },
     "execution_count": 5,
     "metadata": {},
     "output_type": "execute_result"
    }
   ],
   "source": [
    "saw['VeryActiveDistance'].mean()"
   ]
  },
  {
   "cell_type": "markdown",
   "id": "75975276",
   "metadata": {},
   "source": [
    "Most users only travelled 1.4km while being very active.\n",
    "\n",
    "\n",
    "The average male running speed (for 5km, so long distance running) is 9.5kmph, and the average female running speed is 8kmph \n",
    "\n",
    "\n",
    "Therefore, for an average male, 1.4km is the equivalent of running for approximatively 8.8 minutes. \n",
    "For an average female, 1.4km is the equivalent of running for approximatively 10.5 minutes\n",
    "\n",
    "From the data we can conclude bellabeats users are physically below average (or that they weren't very active during the recorded period). This is later confirmed by looking at the average time they were very active for."
   ]
  },
  {
   "cell_type": "markdown",
   "id": "93a41b18",
   "metadata": {},
   "source": [
    "We can compare these results to the very active minutes to see if it corrolates "
   ]
  },
  {
   "cell_type": "code",
   "execution_count": 6,
   "id": "c54a259b",
   "metadata": {},
   "outputs": [
    {
     "data": {
      "text/plain": [
       "25.046341463414635"
      ]
     },
     "execution_count": 6,
     "metadata": {},
     "output_type": "execute_result"
    }
   ],
   "source": [
    "saw['VeryActiveMinutes'].mean()"
   ]
  },
  {
   "cell_type": "markdown",
   "id": "27645588",
   "metadata": {},
   "source": [
    "Individuals were on average very active for 25 minutes per day.\n",
    "\n",
    "Studies show that at around 15-30 minutes of running, your metabolism will be kick started to start buring some serious amount of fat. So inviduals are in that bracket and are exercising in a way that is making them loose fat. **Is that their goal?**\n",
    "\n"
   ]
  },
  {
   "cell_type": "markdown",
   "id": "23327edf",
   "metadata": {},
   "source": [
    "Confirms that bellabeats users are physically below average. The average bellabeats user is very active for 25minutes per day but only parcours a distance of 1.4km on average per day. While being active for that same amount of time, an average male would travel on average, 4km. An average female would travel on average 3.4km in that same time frame. \n",
    "\n",
    "Meaning that bellabeats most likely primary consumer target are people trying to get into shape, people that are just starting their fitness journey.\n",
    "\n",
    "Bellabeat's marketing strategy could therefore, target people who are bignners in the fitness world / It could target people who are wanting to change and just need that extra push. "
   ]
  },
  {
   "cell_type": "code",
   "execution_count": 7,
   "id": "f896a071",
   "metadata": {},
   "outputs": [
    {
     "data": {
      "text/plain": [
       "0.8488887530399012"
      ]
     },
     "execution_count": 7,
     "metadata": {},
     "output_type": "execute_result"
    }
   ],
   "source": [
    "vad = saw['VeryActiveDistance']\n",
    "vam = saw['VeryActiveMinutes']\n",
    "correlation = vad.corr(vam)\n",
    "correlation"
   ]
  },
  {
   "cell_type": "markdown",
   "id": "38ccc54c",
   "metadata": {},
   "source": [
    "With the above function we make sure that the data is correct and that the correlation btw the two studied columns is high. It is."
   ]
  },
  {
   "cell_type": "markdown",
   "id": "3417c887",
   "metadata": {},
   "source": [
    "## Looking at the average for the 50% in the middle"
   ]
  },
  {
   "cell_type": "markdown",
   "id": "4d60aa16",
   "metadata": {},
   "source": [
    "### The activity"
   ]
  },
  {
   "cell_type": "code",
   "execution_count": 8,
   "id": "afc54e32",
   "metadata": {
    "scrolled": false
   },
   "outputs": [
    {
     "data": {
      "text/plain": [
       "count    410.000000\n",
       "mean     216.541463\n",
       "std       86.705299\n",
       "min        2.000000\n",
       "25%      158.000000\n",
       "50%      208.000000\n",
       "75%      263.000000\n",
       "max      518.000000\n",
       "Name: LightlyActiveMinutes, dtype: float64"
      ]
     },
     "execution_count": 8,
     "metadata": {},
     "output_type": "execute_result"
    }
   ],
   "source": [
    "saw['VeryActiveMinutes'].describe()\n",
    "saw['FairlyActiveMinutes'].describe()\n",
    "saw['LightlyActiveMinutes'].describe()"
   ]
  },
  {
   "cell_type": "code",
   "execution_count": 9,
   "id": "6f22ab86",
   "metadata": {
    "scrolled": false
   },
   "outputs": [
    {
     "data": {
      "text/plain": [
       "0      25\n",
       "1      21\n",
       "2      29\n",
       "3      36\n",
       "4      38\n",
       "       ..\n",
       "405    10\n",
       "406     0\n",
       "407     0\n",
       "408     0\n",
       "409     0\n",
       "Name: VeryActiveMinutes, Length: 310, dtype: int64"
      ]
     },
     "execution_count": 9,
     "metadata": {},
     "output_type": "execute_result"
    }
   ],
   "source": [
    "saw['VeryActiveMinutes'][saw['VeryActiveMinutes'].between(0,38)]"
   ]
  },
  {
   "cell_type": "markdown",
   "id": "130a5a4c",
   "metadata": {},
   "source": [
    "We can select the values from inside the interquartile range (between Q1 and Q3) to see the what are the user habits of the majority of bellabeats users.\n",
    "\n",
    "The data shows us that 310 users find themselves to be in the majority of users "
   ]
  },
  {
   "cell_type": "code",
   "execution_count": 10,
   "id": "a2358cfe",
   "metadata": {},
   "outputs": [
    {
     "data": {
      "text/plain": [
       "8.36774193548387"
      ]
     },
     "execution_count": 10,
     "metadata": {},
     "output_type": "execute_result"
    }
   ],
   "source": [
    "saw['VeryActiveMinutes'][saw['VeryActiveMinutes'].between(0,38)].mean()"
   ]
  },
  {
   "cell_type": "code",
   "execution_count": 11,
   "id": "dc94b88d",
   "metadata": {},
   "outputs": [
    {
     "data": {
      "text/plain": [
       "7.537459283387622"
      ]
     },
     "execution_count": 11,
     "metadata": {},
     "output_type": "execute_result"
    }
   ],
   "source": [
    "saw['FairlyActiveMinutes'][saw['FairlyActiveMinutes'].between(0,26.75)].mean()"
   ]
  },
  {
   "cell_type": "code",
   "execution_count": 12,
   "id": "bc5f2c93",
   "metadata": {
    "scrolled": true
   },
   "outputs": [
    {
     "data": {
      "text/plain": [
       "210.67149758454107"
      ]
     },
     "execution_count": 12,
     "metadata": {},
     "output_type": "execute_result"
    }
   ],
   "source": [
    "saw['LightlyActiveMinutes'][saw['LightlyActiveMinutes'].between(158,263)].mean() "
   ]
  },
  {
   "cell_type": "code",
   "execution_count": 13,
   "id": "4641205c",
   "metadata": {},
   "outputs": [
    {
     "data": {
      "text/plain": [
       "226.57669880341257"
      ]
     },
     "execution_count": 13,
     "metadata": {},
     "output_type": "execute_result"
    }
   ],
   "source": [
    "saw['VeryActiveMinutes'][saw['VeryActiveMinutes'].between(0,38)].mean() + saw['LightlyActiveMinutes'][saw['LightlyActiveMinutes'].between(158,263)].mean() + saw['FairlyActiveMinutes'][saw['FairlyActiveMinutes'].between(0,26.75)].mean() "
   ]
  },
  {
   "cell_type": "markdown",
   "id": "62650a54",
   "metadata": {},
   "source": [
    "The average amount of time most bella beats users spent being very active was 8.4 minutes per day.\n",
    "\n",
    "The average amount of time most bella beats users spent being Lightly active was 210.7 minutes per day.\n",
    "\n",
    "The average amount of time most bella beats users spent being active was 226.5 minutes per day."
   ]
  },
  {
   "cell_type": "markdown",
   "id": "626a9d5c",
   "metadata": {},
   "source": [
    "Bellabeat's users do spend a large amount of time being ligtly active. Bringing the total time spent active to an average of 226.5 minutes per day. \n",
    "\n",
    "From this we can infer that bellabeat's users don't necessarily partake in high intensity activities but they do still tend to move around quite a lot.\n",
    "\n",
    "This shows that bellabeat products are not used very much by people who are tracking their high intensity workout. It is more used by the average joe who is simply tracking the calories he has lost in a day, and making sure to maintain his shape."
   ]
  },
  {
   "cell_type": "code",
   "execution_count": 14,
   "id": "05314c78",
   "metadata": {
    "scrolled": false
   },
   "outputs": [
    {
     "data": {
      "text/plain": [
       "259.5121951219512"
      ]
     },
     "execution_count": 14,
     "metadata": {},
     "output_type": "execute_result"
    }
   ],
   "source": [
    "saw['VeryActiveMinutes'].mean() + saw['LightlyActiveMinutes'].mean() + saw['FairlyActiveMinutes'].mean() "
   ]
  },
  {
   "cell_type": "markdown",
   "id": "fc141c9f",
   "metadata": {},
   "source": [
    "Average amount of time spent being active for all Bellabeat users."
   ]
  },
  {
   "cell_type": "markdown",
   "id": "fa01ed3f",
   "metadata": {},
   "source": [
    " "
   ]
  },
  {
   "cell_type": "markdown",
   "id": "a262a57d",
   "metadata": {},
   "source": [
    " "
   ]
  },
  {
   "cell_type": "markdown",
   "id": "e8f7f553",
   "metadata": {},
   "source": [
    "## Counting Calories"
   ]
  },
  {
   "cell_type": "code",
   "execution_count": 15,
   "id": "f5cd0a14",
   "metadata": {
    "scrolled": true
   },
   "outputs": [
    {
     "data": {
      "text/plain": [
       "2389.2951219512197"
      ]
     },
     "execution_count": 15,
     "metadata": {},
     "output_type": "execute_result"
    }
   ],
   "source": [
    "saw['Calories'].mean()"
   ]
  },
  {
   "cell_type": "code",
   "execution_count": 16,
   "id": "7e48a3ba",
   "metadata": {
    "scrolled": false
   },
   "outputs": [
    {
     "data": {
      "text/plain": [
       "count     410.000000\n",
       "mean     2389.295122\n",
       "std       758.435040\n",
       "min       257.000000\n",
       "25%      1841.000000\n",
       "50%      2207.000000\n",
       "75%      2920.000000\n",
       "max      4900.000000\n",
       "Name: Calories, dtype: float64"
      ]
     },
     "execution_count": 16,
     "metadata": {},
     "output_type": "execute_result"
    }
   ],
   "source": [
    "saw['Calories'].describe()"
   ]
  },
  {
   "cell_type": "markdown",
   "id": "a3dc673a",
   "metadata": {},
   "source": [
    "The minimum amount of calories burned in one day in our dataset is 257 calories. However, by doing literally nothing, the average human being burns 1800 calories in 24 hours. Therefore, I will not account of any user with calories burned under 1800 in 24 hours as it would mean they probably didn't have the smart device activated."
   ]
  },
  {
   "cell_type": "code",
   "execution_count": 17,
   "id": "ab97256c",
   "metadata": {},
   "outputs": [
    {
     "data": {
      "text/plain": [
       "2650.8662420382166"
      ]
     },
     "execution_count": 17,
     "metadata": {},
     "output_type": "execute_result"
    }
   ],
   "source": [
    "saw['Calories'][saw['Calories'].between(1800,4900)].mean()"
   ]
  },
  {
   "cell_type": "code",
   "execution_count": 18,
   "id": "629639f3",
   "metadata": {},
   "outputs": [
    {
     "data": {
      "text/plain": [
       "8514.90975609756"
      ]
     },
     "execution_count": 18,
     "metadata": {},
     "output_type": "execute_result"
    }
   ],
   "source": [
    "saw['TotalSteps'].mean()"
   ]
  },
  {
   "cell_type": "markdown",
   "id": "d1bc585b",
   "metadata": {},
   "source": [
    "The average person burns around 1800 calories a day doing nothing. The average bellabeat user has burns 2650 calories in 24 hours. An excess of 850 calories on average is burned daily by bellabeats users. \n",
    "\n",
    "The middle 50% of users spend on average 226.5 (3.7hours) minutes being active. \n",
    "The average bellabeat user takes 8515 steps per day.\n",
    "\n",
    "A 40min walk burns around 300 calories. And 10000 steps daily burns 300 to 400 calories. \n",
    "According to google 3 hours of light activity burns around 810 calories.\n",
    "(The user activity matches the calories burned)\n",
    "\n",
    "Bellabeat users burn a lot of calories on average, the trend shows that the device isn't really used to track higher intensity activities but used to keep track of calories lost during an average day for an individual who doesn't partake in high intensity activities. "
   ]
  },
  {
   "cell_type": "markdown",
   "id": "d91e4539",
   "metadata": {},
   "source": [
    " "
   ]
  },
  {
   "cell_type": "markdown",
   "id": "081b208b",
   "metadata": {},
   "source": [
    " "
   ]
  },
  {
   "cell_type": "markdown",
   "id": "85e80497",
   "metadata": {},
   "source": [
    " "
   ]
  },
  {
   "cell_type": "markdown",
   "id": "de072ba6",
   "metadata": {},
   "source": [
    "# Users Sleep and Body"
   ]
  },
  {
   "cell_type": "code",
   "execution_count": 19,
   "id": "8db19138",
   "metadata": {
    "scrolled": false
   },
   "outputs": [
    {
     "data": {
      "text/plain": [
       "64.16857169015067"
      ]
     },
     "execution_count": 19,
     "metadata": {},
     "output_type": "execute_result"
    }
   ],
   "source": [
    "saw['WeightKg'].mean()"
   ]
  },
  {
   "cell_type": "code",
   "execution_count": 20,
   "id": "f9b6fae3",
   "metadata": {},
   "outputs": [
    {
     "data": {
      "text/plain": [
       "count     35.000000\n",
       "mean      64.168572\n",
       "std       13.307268\n",
       "min       52.599998\n",
       "25%       61.200001\n",
       "50%       61.500000\n",
       "75%       61.900002\n",
       "max      133.500000\n",
       "Name: WeightKg, dtype: float64"
      ]
     },
     "execution_count": 20,
     "metadata": {},
     "output_type": "execute_result"
    }
   ],
   "source": [
    "saw['WeightKg'].describe()"
   ]
  },
  {
   "cell_type": "code",
   "execution_count": 21,
   "id": "85f81977",
   "metadata": {},
   "outputs": [
    {
     "data": {
      "text/plain": [
       "24.82857121058873"
      ]
     },
     "execution_count": 21,
     "metadata": {},
     "output_type": "execute_result"
    }
   ],
   "source": [
    "saw['BMI'].mean()"
   ]
  },
  {
   "cell_type": "code",
   "execution_count": 22,
   "id": "bb81756b",
   "metadata": {},
   "outputs": [
    {
     "data": {
      "text/plain": [
       "count    35.000000\n",
       "mean     24.828571\n",
       "std       4.063695\n",
       "min      22.650000\n",
       "25%      23.889999\n",
       "50%      24.000000\n",
       "75%      24.170000\n",
       "max      47.540001\n",
       "Name: BMI, dtype: float64"
      ]
     },
     "execution_count": 22,
     "metadata": {},
     "output_type": "execute_result"
    }
   ],
   "source": [
    "saw['BMI'].describe()"
   ]
  },
  {
   "cell_type": "code",
   "execution_count": 23,
   "id": "c0601c3c",
   "metadata": {},
   "outputs": [
    {
     "data": {
      "text/plain": [
       "419.17317073170733"
      ]
     },
     "execution_count": 23,
     "metadata": {},
     "output_type": "execute_result"
    }
   ],
   "source": [
    "saw['TotalMinutesAsleep'].mean()"
   ]
  },
  {
   "cell_type": "code",
   "execution_count": 24,
   "id": "f86acbb8",
   "metadata": {
    "scrolled": false
   },
   "outputs": [
    {
     "data": {
      "text/plain": [
       "count    410.000000\n",
       "mean     419.173171\n",
       "std      118.635918\n",
       "min       58.000000\n",
       "25%      361.000000\n",
       "50%      432.500000\n",
       "75%      490.000000\n",
       "max      796.000000\n",
       "Name: TotalMinutesAsleep, dtype: float64"
      ]
     },
     "execution_count": 24,
     "metadata": {},
     "output_type": "execute_result"
    }
   ],
   "source": [
    "saw['TotalMinutesAsleep'].describe()"
   ]
  },
  {
   "cell_type": "markdown",
   "id": "0e7f0abe",
   "metadata": {},
   "source": [
    "BellaBeat users spend on average 419 minutes asleep (6h 59min) and have a healthy BMI. \n",
    "\n",
    "The average Bellabeat user, therefore, isn't out of shape. The Smart device is more commonly used to maintain a healthy lifestyle rather than trying to 'improve' it, get into shape, or by people who are very unhealthy.\n",
    "\n",
    "It is used by people who are healthy but not very physically active. The marketing strategy should target those types of people. Which are people who probably work a regular job but try to stay in shape by eating properly and go on walks to stay healthy."
   ]
  },
  {
   "cell_type": "markdown",
   "id": "94a79ef4",
   "metadata": {},
   "source": [
    " "
   ]
  },
  {
   "cell_type": "markdown",
   "id": "d38e4016",
   "metadata": {},
   "source": [
    "## Correlations"
   ]
  },
  {
   "cell_type": "code",
   "execution_count": 25,
   "id": "f8fe24d9",
   "metadata": {},
   "outputs": [],
   "source": [
    "BMI = saw['BMI']\n",
    "Weight = saw['WeightKg']\n",
    "Sleep = saw['TotalMinutesAsleep']\n",
    "Calories = saw['Calories']\n",
    "Steps = saw['TotalSteps']\n",
    "VeryActive = saw['VeryActiveMinutes']\n",
    "InBed = saw['TotalTimeInBed']"
   ]
  },
  {
   "cell_type": "code",
   "execution_count": 26,
   "id": "90524e26",
   "metadata": {},
   "outputs": [
    {
     "data": {
      "text/plain": [
       "0.15381095991691326"
      ]
     },
     "execution_count": 26,
     "metadata": {},
     "output_type": "execute_result"
    }
   ],
   "source": [
    "BMI.corr(Calories)"
   ]
  },
  {
   "cell_type": "code",
   "execution_count": 27,
   "id": "09955b88",
   "metadata": {},
   "outputs": [
    {
     "data": {
      "text/plain": [
       "-0.06713730252004485"
      ]
     },
     "execution_count": 27,
     "metadata": {},
     "output_type": "execute_result"
    }
   ],
   "source": [
    "BMI.corr(Sleep)"
   ]
  },
  {
   "cell_type": "code",
   "execution_count": 28,
   "id": "b0445a91",
   "metadata": {},
   "outputs": [
    {
     "data": {
      "text/plain": [
       "-0.1662319486736155"
      ]
     },
     "execution_count": 28,
     "metadata": {},
     "output_type": "execute_result"
    }
   ],
   "source": [
    "Steps.corr(InBed)"
   ]
  },
  {
   "cell_type": "code",
   "execution_count": 29,
   "id": "6a4ef011",
   "metadata": {
    "scrolled": true
   },
   "outputs": [
    {
     "data": {
      "text/plain": [
       "-0.3748359774668915"
      ]
     },
     "execution_count": 29,
     "metadata": {},
     "output_type": "execute_result"
    }
   ],
   "source": [
    "Steps.corr(Weight)"
   ]
  },
  {
   "cell_type": "code",
   "execution_count": 30,
   "id": "5dd6b6e9",
   "metadata": {},
   "outputs": [
    {
     "data": {
      "text/plain": [
       "-0.1903439166676317"
      ]
     },
     "execution_count": 30,
     "metadata": {},
     "output_type": "execute_result"
    }
   ],
   "source": [
    "Steps.corr(Sleep)"
   ]
  },
  {
   "cell_type": "code",
   "execution_count": 31,
   "id": "be67f93b",
   "metadata": {},
   "outputs": [
    {
     "data": {
      "text/plain": [
       "-0.40387269834971656"
      ]
     },
     "execution_count": 31,
     "metadata": {},
     "output_type": "execute_result"
    }
   ],
   "source": [
    "Steps.corr(BMI)"
   ]
  },
  {
   "cell_type": "markdown",
   "id": "8923e07f",
   "metadata": {},
   "source": [
    "These corrolations show us the impact of the users' habits on his health/body/sleep. \n",
    "\n",
    "There is a negative correlation between the amount of Steps taken in a day and the amount of sleep had in a day. Meaning that, the more steps taken in one day, the less sleep the user will have. This could be a negative statistic but it could also be explained by either the fact that taking more steps leads to better sleep and therefore, the need to spend less time sleeping; \n",
    "it could also be explained by the users who take more steps in the day are generally more active, less 'lazy' and tend to spend less time in bed and more time being active. This is backed up by the correlation between steps and time in bed, the more steps taken in a day, the less amount of time the user spends in bed.\n",
    "\n",
    "There is also a negative correlation between Steps and BMI, meaning that more steps take the lower the BMI. A high BMI (above 25) is considered unhealthy so lowering that BMI is positive. \n",
    "\n",
    "Finally, there is a faint negative correlation between BMI and Sleep, meaning that the higher the BMI, the less sleep a person gets. It can therefore, be argued that a high BMI leads to trouble sleep, and that the reason why the correlation is so low is because individuals who have a lower BMI tend to be healthier, more active, and get better sleep. Therefore, they spend less time in bed sleeping (not because they sleep bad but because they sleep better and live a more active lifestyle). So a high or a low BMI could lead to less sleep, the two being the case cancel out the correlation and it explains why the correlation is so close to 0.  \n",
    "\n",
    "These statistics could be used a selling points for the product."
   ]
  },
  {
   "cell_type": "markdown",
   "id": "f001334c",
   "metadata": {},
   "source": [
    " \n"
   ]
  },
  {
   "cell_type": "markdown",
   "id": "fc27012a",
   "metadata": {},
   "source": [
    " "
   ]
  },
  {
   "cell_type": "markdown",
   "id": "e30f4ac2",
   "metadata": {},
   "source": [
    " "
   ]
  },
  {
   "cell_type": "markdown",
   "id": "f85e776f",
   "metadata": {},
   "source": [
    " "
   ]
  },
  {
   "cell_type": "markdown",
   "id": "301bd7f6",
   "metadata": {},
   "source": [
    " "
   ]
  },
  {
   "cell_type": "markdown",
   "id": "13d237cc",
   "metadata": {},
   "source": [
    "# The Other Tables"
   ]
  },
  {
   "cell_type": "markdown",
   "id": "e29ab12a",
   "metadata": {},
   "source": [
    "## Heart Rate"
   ]
  },
  {
   "cell_type": "code",
   "execution_count": 37,
   "id": "d5935b92",
   "metadata": {
    "scrolled": true
   },
   "outputs": [
    {
     "data": {
      "text/html": [
       "<div>\n",
       "<style scoped>\n",
       "    .dataframe tbody tr th:only-of-type {\n",
       "        vertical-align: middle;\n",
       "    }\n",
       "\n",
       "    .dataframe tbody tr th {\n",
       "        vertical-align: top;\n",
       "    }\n",
       "\n",
       "    .dataframe thead th {\n",
       "        text-align: right;\n",
       "    }\n",
       "</style>\n",
       "<table border=\"1\" class=\"dataframe\">\n",
       "  <thead>\n",
       "    <tr style=\"text-align: right;\">\n",
       "      <th></th>\n",
       "      <th>DateTime</th>\n",
       "      <th>Id</th>\n",
       "      <th>Hours</th>\n",
       "      <th>Hour</th>\n",
       "      <th>AverageValue</th>\n",
       "    </tr>\n",
       "  </thead>\n",
       "  <tbody>\n",
       "    <tr>\n",
       "      <th>0</th>\n",
       "      <td>2016-05-08</td>\n",
       "      <td>8877689391</td>\n",
       "      <td>14:00:00</td>\n",
       "      <td>14</td>\n",
       "      <td>73.119835</td>\n",
       "    </tr>\n",
       "    <tr>\n",
       "      <th>1</th>\n",
       "      <td>2016-05-01</td>\n",
       "      <td>8877689391</td>\n",
       "      <td>12:00:00</td>\n",
       "      <td>12</td>\n",
       "      <td>67.782609</td>\n",
       "    </tr>\n",
       "    <tr>\n",
       "      <th>2</th>\n",
       "      <td>2016-04-22</td>\n",
       "      <td>8877689391</td>\n",
       "      <td>07:00:00</td>\n",
       "      <td>7</td>\n",
       "      <td>69.995215</td>\n",
       "    </tr>\n",
       "    <tr>\n",
       "      <th>3</th>\n",
       "      <td>2016-04-13</td>\n",
       "      <td>8877689391</td>\n",
       "      <td>09:00:00</td>\n",
       "      <td>9</td>\n",
       "      <td>62.082742</td>\n",
       "    </tr>\n",
       "    <tr>\n",
       "      <th>4</th>\n",
       "      <td>2016-05-04</td>\n",
       "      <td>8877689391</td>\n",
       "      <td>14:00:00</td>\n",
       "      <td>14</td>\n",
       "      <td>67.268041</td>\n",
       "    </tr>\n",
       "  </tbody>\n",
       "</table>\n",
       "</div>"
      ],
      "text/plain": [
       "    DateTime          Id     Hours  Hour  AverageValue\n",
       "0 2016-05-08  8877689391  14:00:00    14     73.119835\n",
       "1 2016-05-01  8877689391  12:00:00    12     67.782609\n",
       "2 2016-04-22  8877689391  07:00:00     7     69.995215\n",
       "3 2016-04-13  8877689391  09:00:00     9     62.082742\n",
       "4 2016-05-04  8877689391  14:00:00    14     67.268041"
      ]
     },
     "execution_count": 37,
     "metadata": {},
     "output_type": "execute_result"
    }
   ],
   "source": [
    "ahr.head(5)"
   ]
  },
  {
   "cell_type": "code",
   "execution_count": 33,
   "id": "222e1a7a",
   "metadata": {
    "scrolled": true
   },
   "outputs": [
    {
     "data": {
      "text/html": [
       "<div>\n",
       "<style scoped>\n",
       "    .dataframe tbody tr th:only-of-type {\n",
       "        vertical-align: middle;\n",
       "    }\n",
       "\n",
       "    .dataframe tbody tr th {\n",
       "        vertical-align: top;\n",
       "    }\n",
       "\n",
       "    .dataframe thead th {\n",
       "        text-align: right;\n",
       "    }\n",
       "</style>\n",
       "<table border=\"1\" class=\"dataframe\">\n",
       "  <thead>\n",
       "    <tr style=\"text-align: right;\">\n",
       "      <th></th>\n",
       "      <th>Id</th>\n",
       "      <th>AverageValue</th>\n",
       "    </tr>\n",
       "    <tr>\n",
       "      <th>Hour</th>\n",
       "      <th></th>\n",
       "      <th></th>\n",
       "    </tr>\n",
       "  </thead>\n",
       "  <tbody>\n",
       "    <tr>\n",
       "      <th>18</th>\n",
       "      <td>5.563010e+09</td>\n",
       "      <td>81.752045</td>\n",
       "    </tr>\n",
       "    <tr>\n",
       "      <th>17</th>\n",
       "      <td>5.557283e+09</td>\n",
       "      <td>81.597924</td>\n",
       "    </tr>\n",
       "    <tr>\n",
       "      <th>19</th>\n",
       "      <td>5.529603e+09</td>\n",
       "      <td>80.765644</td>\n",
       "    </tr>\n",
       "    <tr>\n",
       "      <th>16</th>\n",
       "      <td>5.554325e+09</td>\n",
       "      <td>80.496373</td>\n",
       "    </tr>\n",
       "    <tr>\n",
       "      <th>12</th>\n",
       "      <td>5.570633e+09</td>\n",
       "      <td>79.710245</td>\n",
       "    </tr>\n",
       "  </tbody>\n",
       "</table>\n",
       "</div>"
      ],
      "text/plain": [
       "                Id  AverageValue\n",
       "Hour                            \n",
       "18    5.563010e+09     81.752045\n",
       "17    5.557283e+09     81.597924\n",
       "19    5.529603e+09     80.765644\n",
       "16    5.554325e+09     80.496373\n",
       "12    5.570633e+09     79.710245"
      ]
     },
     "execution_count": 33,
     "metadata": {},
     "output_type": "execute_result"
    }
   ],
   "source": [
    "ahrgroup = ahr.groupby(['Hour']).mean()\n",
    "ahrgroup.sort_values(['AverageValue'], ascending = False).head(5)"
   ]
  },
  {
   "cell_type": "markdown",
   "id": "8e482d67",
   "metadata": {},
   "source": [
    "This table shows the hours at which people have the highest heart rate. \n",
    "\n",
    "From 5pm to 7pm are the times where people have the highest heart rate. This could mean that those are the time where people generally exercise. This will be backed up by the next table. "
   ]
  },
  {
   "cell_type": "markdown",
   "id": "d43e909a",
   "metadata": {},
   "source": [
    " "
   ]
  },
  {
   "cell_type": "markdown",
   "id": "fd8f95e5",
   "metadata": {},
   "source": [
    "## Calorie Intensity\n"
   ]
  },
  {
   "cell_type": "code",
   "execution_count": 38,
   "id": "cac1e676",
   "metadata": {},
   "outputs": [
    {
     "data": {
      "text/html": [
       "<div>\n",
       "<style scoped>\n",
       "    .dataframe tbody tr th:only-of-type {\n",
       "        vertical-align: middle;\n",
       "    }\n",
       "\n",
       "    .dataframe tbody tr th {\n",
       "        vertical-align: top;\n",
       "    }\n",
       "\n",
       "    .dataframe thead th {\n",
       "        text-align: right;\n",
       "    }\n",
       "</style>\n",
       "<table border=\"1\" class=\"dataframe\">\n",
       "  <thead>\n",
       "    <tr style=\"text-align: right;\">\n",
       "      <th></th>\n",
       "      <th>Id</th>\n",
       "      <th>Calories</th>\n",
       "      <th>TotalIntensity</th>\n",
       "      <th>AverageIntensity</th>\n",
       "      <th>Date</th>\n",
       "      <th>Time</th>\n",
       "      <th>Hour</th>\n",
       "    </tr>\n",
       "  </thead>\n",
       "  <tbody>\n",
       "    <tr>\n",
       "      <th>0</th>\n",
       "      <td>1503960366</td>\n",
       "      <td>81</td>\n",
       "      <td>20</td>\n",
       "      <td>0.333333</td>\n",
       "      <td>2016-12-04</td>\n",
       "      <td>00:00:00</td>\n",
       "      <td>0</td>\n",
       "    </tr>\n",
       "    <tr>\n",
       "      <th>1</th>\n",
       "      <td>1503960366</td>\n",
       "      <td>61</td>\n",
       "      <td>8</td>\n",
       "      <td>0.133333</td>\n",
       "      <td>2016-12-04</td>\n",
       "      <td>01:00:00</td>\n",
       "      <td>1</td>\n",
       "    </tr>\n",
       "    <tr>\n",
       "      <th>2</th>\n",
       "      <td>1503960366</td>\n",
       "      <td>59</td>\n",
       "      <td>7</td>\n",
       "      <td>0.116667</td>\n",
       "      <td>2016-12-04</td>\n",
       "      <td>02:00:00</td>\n",
       "      <td>2</td>\n",
       "    </tr>\n",
       "    <tr>\n",
       "      <th>3</th>\n",
       "      <td>1503960366</td>\n",
       "      <td>47</td>\n",
       "      <td>0</td>\n",
       "      <td>0.000000</td>\n",
       "      <td>2016-12-04</td>\n",
       "      <td>03:00:00</td>\n",
       "      <td>3</td>\n",
       "    </tr>\n",
       "    <tr>\n",
       "      <th>4</th>\n",
       "      <td>1503960366</td>\n",
       "      <td>48</td>\n",
       "      <td>0</td>\n",
       "      <td>0.000000</td>\n",
       "      <td>2016-12-04</td>\n",
       "      <td>04:00:00</td>\n",
       "      <td>4</td>\n",
       "    </tr>\n",
       "  </tbody>\n",
       "</table>\n",
       "</div>"
      ],
      "text/plain": [
       "           Id  Calories  TotalIntensity  AverageIntensity       Date  \\\n",
       "0  1503960366        81              20          0.333333 2016-12-04   \n",
       "1  1503960366        61               8          0.133333 2016-12-04   \n",
       "2  1503960366        59               7          0.116667 2016-12-04   \n",
       "3  1503960366        47               0          0.000000 2016-12-04   \n",
       "4  1503960366        48               0          0.000000 2016-12-04   \n",
       "\n",
       "       Time  Hour  \n",
       "0  00:00:00     0  \n",
       "1  01:00:00     1  \n",
       "2  02:00:00     2  \n",
       "3  03:00:00     3  \n",
       "4  04:00:00     4  "
      ]
     },
     "execution_count": 38,
     "metadata": {},
     "output_type": "execute_result"
    }
   ],
   "source": [
    "hci.head(5)"
   ]
  },
  {
   "cell_type": "code",
   "execution_count": 35,
   "id": "ea9dc823",
   "metadata": {
    "scrolled": false
   },
   "outputs": [
    {
     "data": {
      "text/html": [
       "<div>\n",
       "<style scoped>\n",
       "    .dataframe tbody tr th:only-of-type {\n",
       "        vertical-align: middle;\n",
       "    }\n",
       "\n",
       "    .dataframe tbody tr th {\n",
       "        vertical-align: top;\n",
       "    }\n",
       "\n",
       "    .dataframe thead th {\n",
       "        text-align: right;\n",
       "    }\n",
       "</style>\n",
       "<table border=\"1\" class=\"dataframe\">\n",
       "  <thead>\n",
       "    <tr style=\"text-align: right;\">\n",
       "      <th></th>\n",
       "      <th>Id</th>\n",
       "      <th>Calories</th>\n",
       "      <th>TotalIntensity</th>\n",
       "      <th>AverageIntensity</th>\n",
       "    </tr>\n",
       "    <tr>\n",
       "      <th>Hour</th>\n",
       "      <th></th>\n",
       "      <th></th>\n",
       "      <th></th>\n",
       "      <th></th>\n",
       "    </tr>\n",
       "  </thead>\n",
       "  <tbody>\n",
       "    <tr>\n",
       "      <th>17</th>\n",
       "      <td>4.804199e+09</td>\n",
       "      <td>127.586103</td>\n",
       "      <td>22.220544</td>\n",
       "      <td>0.370342</td>\n",
       "    </tr>\n",
       "    <tr>\n",
       "      <th>19</th>\n",
       "      <td>4.804199e+09</td>\n",
       "      <td>121.274924</td>\n",
       "      <td>21.039275</td>\n",
       "      <td>0.350655</td>\n",
       "    </tr>\n",
       "    <tr>\n",
       "      <th>18</th>\n",
       "      <td>4.804199e+09</td>\n",
       "      <td>119.492447</td>\n",
       "      <td>20.471299</td>\n",
       "      <td>0.341188</td>\n",
       "    </tr>\n",
       "    <tr>\n",
       "      <th>16</th>\n",
       "      <td>4.808676e+09</td>\n",
       "      <td>115.915663</td>\n",
       "      <td>18.240964</td>\n",
       "      <td>0.304016</td>\n",
       "    </tr>\n",
       "    <tr>\n",
       "      <th>14</th>\n",
       "      <td>4.786521e+09</td>\n",
       "      <td>115.863768</td>\n",
       "      <td>18.872464</td>\n",
       "      <td>0.314541</td>\n",
       "    </tr>\n",
       "  </tbody>\n",
       "</table>\n",
       "</div>"
      ],
      "text/plain": [
       "                Id    Calories  TotalIntensity  AverageIntensity\n",
       "Hour                                                            \n",
       "17    4.804199e+09  127.586103       22.220544          0.370342\n",
       "19    4.804199e+09  121.274924       21.039275          0.350655\n",
       "18    4.804199e+09  119.492447       20.471299          0.341188\n",
       "16    4.808676e+09  115.915663       18.240964          0.304016\n",
       "14    4.786521e+09  115.863768       18.872464          0.314541"
      ]
     },
     "execution_count": 35,
     "metadata": {},
     "output_type": "execute_result"
    }
   ],
   "source": [
    "hcigroup = hci.groupby(['Hour']).mean()\n",
    "hcigroup.sort_values(['Calories'], ascending = False).head(5)"
   ]
  },
  {
   "cell_type": "markdown",
   "id": "a15f9459",
   "metadata": {},
   "source": [
    "This table shows that between 5pm and 7pm are the times where people lose the most calories. Which correlates with the times where people have the highest heart rate.\n",
    "\n",
    "This highlights a trend in activity and, therefore, the time at which the smart device is most useful? Could be used in marketing strategy by working on features that are especially useful for those times?  "
   ]
  },
  {
   "cell_type": "markdown",
   "id": "2aac4c3d",
   "metadata": {},
   "source": [
    " \n"
   ]
  },
  {
   "cell_type": "markdown",
   "id": "54a4ab21",
   "metadata": {},
   "source": [
    " \n",
    " \n",
    " "
   ]
  },
  {
   "cell_type": "code",
   "execution_count": null,
   "id": "f16af160",
   "metadata": {},
   "outputs": [],
   "source": []
  }
 ],
 "metadata": {
  "kernelspec": {
   "display_name": "Python 3 (ipykernel)",
   "language": "python",
   "name": "python3"
  },
  "language_info": {
   "codemirror_mode": {
    "name": "ipython",
    "version": 3
   },
   "file_extension": ".py",
   "mimetype": "text/x-python",
   "name": "python",
   "nbconvert_exporter": "python",
   "pygments_lexer": "ipython3",
   "version": "3.9.7"
  }
 },
 "nbformat": 4,
 "nbformat_minor": 5
}
